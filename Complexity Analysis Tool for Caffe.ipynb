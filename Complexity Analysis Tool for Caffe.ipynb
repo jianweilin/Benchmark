{
 "cells": [
  {
   "cell_type": "markdown",
   "metadata": {},
   "source": [
    "# Complexity Analysis Tool for Caffe Model in Prototxt"
   ]
  },
  {
   "cell_type": "code",
   "execution_count": 1,
   "metadata": {},
   "outputs": [],
   "source": [
    "import caffe\n",
    "import numpy as np\n",
    "import matplotlib.pyplot as plt\n",
    "import os\n",
    "caffe.set_device(0)\n",
    "caffe.set_mode_gpu()"
   ]
  },
  {
   "cell_type": "code",
   "execution_count": 2,
   "metadata": {},
   "outputs": [],
   "source": [
    "def flops(net, table=True):\n",
    "    flops_records = []\n",
    "    result = []\n",
    "    result.append('Layer Name | Kernel Size | Output Size | FLOPS | FLOPS %')\n",
    "    result.append('--- | ---: | ---: | ---: | ---:')\n",
    "    for i, k in enumerate(net.top_names.iterkeys()):\n",
    "        if net.layers[i].type != 'Convolution':\n",
    "            continue\n",
    "        kernel_shape = net.params[k][0].data.shape\n",
    "        output_shape = net.blobs[k].data.shape\n",
    "        channel_in = kernel_shape[1]\n",
    "        channel_out = kernel_shape[0]\n",
    "        flops = (kernel_shape[-1] ** 2) * (output_shape[-1] ** 2) * channel_in * channel_out\n",
    "        line = '%s | %s | %s | %s' % (k, kernel_shape, output_shape, \"{:,}\".format(flops))\n",
    "        result.append(line)\n",
    "        flops_records.append(flops)\n",
    "\n",
    "    total_flops = np.sum(flops_records)\n",
    "    result.append('- | - | - | - | -')\n",
    "    result.append('**Summary** | - | - | **%s** | - ' % \"{:,}\".format(total_flops))\n",
    "    result.append('(in units) | - | - | **%.1f GFLOPS** | - ' % (float(total_flops)/1024/1024/1024))\n",
    "\n",
    "    # Calculate FLOPS % for each conv layer\n",
    "    flops_ratios = []\n",
    "    for i, flops in enumerate(flops_records):\n",
    "        percent = float(flops) / total_flops * 100\n",
    "        flops_ratios.append(percent)\n",
    "        percent = ' | %.2f %%' % percent\n",
    "        result[i + 2] += percent\n",
    "\n",
    "    if table:\n",
    "        for l in result:\n",
    "            print l\n",
    "\n",
    "        plt.figure(figsize=(15, 7))\n",
    "        plt.bar(range(len(flops_ratios)), flops_ratios)\n",
    "        plt.title(\"FLOPS Analysis\", size=20)\n",
    "        plt.xlabel('Layer ID')\n",
    "        plt.ylabel('FLOPS %')\n",
    "        plt.grid(True)\n",
    "        plt.show()\n",
    "    return total_flops"
   ]
  },
  {
   "cell_type": "code",
   "execution_count": 4,
   "metadata": {},
   "outputs": [],
   "source": [
    "model = 'deploy.prototxt'\n",
    "net = caffe.Net(model, caffe.TEST)"
   ]
  },
  {
   "cell_type": "code",
   "execution_count": 6,
   "metadata": {},
   "outputs": [
    {
     "name": "stdout",
     "output_type": "stream",
     "text": [
      "Layer Name | Kernel Size | Output Size | FLOPS | FLOPS %\n",
      "--- | ---: | ---: | ---: | ---:\n",
      "conv1_1 | (39, 3, 3, 3) | (1, 39, 320, 320) | 107,827,200 | 0.30 %\n",
      "conv1_2 | (64, 39, 3, 3) | (1, 64, 320, 320) | 2,300,313,600 | 6.37 %\n",
      "conv2_1 | (128, 64, 3, 3) | (1, 128, 160, 160) | 1,887,436,800 | 5.23 %\n",
      "conv2_2 | (128, 128, 3, 3) | (1, 128, 160, 160) | 3,774,873,600 | 10.46 %\n",
      "conv3_1 | (256, 128, 3, 3) | (1, 256, 80, 80) | 1,887,436,800 | 5.23 %\n",
      "conv3_2 | (256, 256, 3, 3) | (1, 256, 80, 80) | 3,774,873,600 | 10.46 %\n",
      "conv3_3 | (256, 256, 3, 3) | (1, 256, 80, 80) | 3,774,873,600 | 10.46 %\n",
      "conv4_1 | (512, 256, 3, 3) | (1, 512, 40, 40) | 1,887,436,800 | 5.23 %\n",
      "conv4_2 | (512, 512, 3, 3) | (1, 512, 40, 40) | 3,774,873,600 | 10.46 %\n",
      "conv4_3 | (512, 512, 3, 3) | (1, 512, 40, 40) | 3,774,873,600 | 10.46 %\n",
      "conv5_1 | (512, 512, 3, 3) | (1, 512, 20, 20) | 943,718,400 | 2.61 %\n",
      "conv5_2 | (512, 512, 3, 3) | (1, 512, 20, 20) | 943,718,400 | 2.61 %\n",
      "conv5_3 | (512, 512, 3, 3) | (1, 512, 20, 20) | 943,718,400 | 2.61 %\n",
      "fc6 | (1024, 512, 3, 3) | (1, 1024, 10, 10) | 471,859,200 | 1.31 %\n",
      "fc7 | (1024, 1024, 1, 1) | (1, 1024, 10, 10) | 104,857,600 | 0.29 %\n",
      "conv6_1 | (256, 1024, 1, 1) | (1, 256, 10, 10) | 26,214,400 | 0.07 %\n",
      "conv6_2 | (512, 256, 3, 3) | (1, 512, 5, 5) | 29,491,200 | 0.08 %\n",
      "TL6_1 | (256, 512, 3, 3) | (1, 256, 5, 5) | 29,491,200 | 0.08 %\n",
      "TL6_2 | (256, 256, 3, 3) | (1, 256, 5, 5) | 14,745,600 | 0.04 %\n",
      "P6 | (256, 256, 3, 3) | (1, 256, 5, 5) | 14,745,600 | 0.04 %\n",
      "TL5_1 | (256, 1024, 3, 3) | (1, 256, 10, 10) | 235,929,600 | 0.65 %\n",
      "TL5_2 | (256, 256, 3, 3) | (1, 256, 10, 10) | 58,982,400 | 0.16 %\n",
      "P5 | (256, 256, 3, 3) | (1, 256, 10, 10) | 58,982,400 | 0.16 %\n",
      "TL4_1 | (256, 512, 3, 3) | (1, 256, 20, 20) | 471,859,200 | 1.31 %\n",
      "TL4_2 | (256, 256, 3, 3) | (1, 256, 20, 20) | 235,929,600 | 0.65 %\n",
      "P4 | (256, 256, 3, 3) | (1, 256, 20, 20) | 235,929,600 | 0.65 %\n",
      "TL3_1 | (256, 512, 3, 3) | (1, 256, 40, 40) | 1,887,436,800 | 5.23 %\n",
      "TL3_2 | (256, 256, 3, 3) | (1, 256, 40, 40) | 943,718,400 | 2.61 %\n",
      "P3 | (256, 256, 3, 3) | (1, 256, 40, 40) | 943,718,400 | 2.61 %\n",
      "conv4_3_norm_mbox_loc | (12, 512, 3, 3) | (1, 12, 40, 40) | 88,473,600 | 0.25 %\n",
      "conv4_3_norm_mbox_conf | (6, 512, 3, 3) | (1, 6, 40, 40) | 44,236,800 | 0.12 %\n",
      "conv5_3_norm_mbox_loc | (12, 512, 3, 3) | (1, 12, 20, 20) | 22,118,400 | 0.06 %\n",
      "conv5_3_norm_mbox_conf | (6, 512, 3, 3) | (1, 6, 20, 20) | 11,059,200 | 0.03 %\n",
      "fc7_mbox_loc | (12, 1024, 3, 3) | (1, 12, 10, 10) | 11,059,200 | 0.03 %\n",
      "fc7_mbox_conf | (6, 1024, 3, 3) | (1, 6, 10, 10) | 5,529,600 | 0.02 %\n",
      "conv6_2_mbox_loc | (12, 512, 3, 3) | (1, 12, 5, 5) | 1,382,400 | 0.00 %\n",
      "conv6_2_mbox_conf | (6, 512, 3, 3) | (1, 6, 5, 5) | 691,200 | 0.00 %\n",
      "P3_mbox_loc | (12, 256, 3, 3) | (1, 12, 40, 40) | 44,236,800 | 0.12 %\n",
      "P3_mbox_conf | (63, 256, 3, 3) | (1, 63, 40, 40) | 232,243,200 | 0.64 %\n",
      "P4_mbox_loc | (12, 256, 3, 3) | (1, 12, 20, 20) | 11,059,200 | 0.03 %\n",
      "P4_mbox_conf | (63, 256, 3, 3) | (1, 63, 20, 20) | 58,060,800 | 0.16 %\n",
      "P5_mbox_loc | (12, 256, 3, 3) | (1, 12, 10, 10) | 2,764,800 | 0.01 %\n",
      "P5_mbox_conf | (63, 256, 3, 3) | (1, 63, 10, 10) | 14,515,200 | 0.04 %\n",
      "P6_mbox_loc | (12, 256, 3, 3) | (1, 12, 5, 5) | 691,200 | 0.00 %\n",
      "P6_mbox_conf | (63, 256, 3, 3) | (1, 63, 5, 5) | 3,628,800 | 0.01 %\n",
      "- | - | - | - | -\n",
      "**Summary** | - | - | **36,091,616,000** | - \n",
      "(in units) | - | - | **33.6 GFLOPS** | - \n"
     ]
    },
    {
     "data": {
      "image/png": "[encoded data removed]",
      "text/plain": [
       "<matplotlib.figure.Figure at 0x7f4bf185f990>"
      ]
     },
     "metadata": {},
     "output_type": "display_data"
    },
    {
     "name": "stdout",
     "output_type": "stream",
     "text": [
      "Total FLOPS = 33\n"
     ]
    }
   ],
   "source": [
    "result = flops(net)\n",
    "print \"Total FLOPS = %d\" % (float(result)/1024**3)"
   ]
  }
 ],
 "metadata": {
  "kernelspec": {
   "display_name": "Python 2",
   "language": "python",
   "name": "python2"
  },
  "language_info": {
   "codemirror_mode": {
    "name": "ipython",
    "version": 2
   },
   "file_extension": ".py",
   "mimetype": "text/x-python",
   "name": "python",
   "nbconvert_exporter": "python",
   "pygments_lexer": "ipython2",
   "version": "2.7.13"
  }
 },
 "nbformat": 4,
 "nbformat_minor": 2
}
